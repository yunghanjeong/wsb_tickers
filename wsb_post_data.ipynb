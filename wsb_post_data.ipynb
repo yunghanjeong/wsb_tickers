{
 "cells": [
  {
   "cell_type": "code",
   "execution_count": 3,
   "metadata": {},
   "outputs": [],
   "source": [
    "import os\n",
    "\n",
    "import pandas as pd\n",
    "import numpy as np\n",
    "\n",
    "from src.praw_tools import reddit_tools\n",
    "\n",
    "\n",
    "import matplotlib.pyplot as plt\n",
    "%matplotlib inline"
   ]
  },
  {
   "cell_type": "code",
   "execution_count": 6,
   "metadata": {},
   "outputs": [],
   "source": [
    "rt = reddit_tools(\"wsb_tickers\") #name the reddit api module"
   ]
  },
  {
   "cell_type": "code",
   "execution_count": 7,
   "metadata": {},
   "outputs": [
    {
     "data": {
      "text/html": [
       "<div>\n",
       "<style scoped>\n",
       "    .dataframe tbody tr th:only-of-type {\n",
       "        vertical-align: middle;\n",
       "    }\n",
       "\n",
       "    .dataframe tbody tr th {\n",
       "        vertical-align: top;\n",
       "    }\n",
       "\n",
       "    .dataframe thead th {\n",
       "        text-align: right;\n",
       "    }\n",
       "</style>\n",
       "<table border=\"1\" class=\"dataframe\">\n",
       "  <thead>\n",
       "    <tr style=\"text-align: right;\">\n",
       "      <th></th>\n",
       "      <th>title</th>\n",
       "      <th>url</th>\n",
       "    </tr>\n",
       "  </thead>\n",
       "  <tbody>\n",
       "    <tr>\n",
       "      <th>0</th>\n",
       "      <td>Times Square right now</td>\n",
       "      <td>https://v.redd.it/x64z70f7eie61</td>\n",
       "    </tr>\n",
       "    <tr>\n",
       "      <th>1</th>\n",
       "      <td>UPVOTE so everyone sees we got SUPPORT</td>\n",
       "      <td>https://i.redd.it/sgoqy8nyt2e61.png</td>\n",
       "    </tr>\n",
       "    <tr>\n",
       "      <th>2</th>\n",
       "      <td>GME YOLO update — Jan 28 2021</td>\n",
       "      <td>https://i.redd.it/opzucppb15e61.png</td>\n",
       "    </tr>\n",
       "    <tr>\n",
       "      <th>3</th>\n",
       "      <td>GME YOLO month-end update — Jan 2021</td>\n",
       "      <td>https://i.redd.it/r557em3t5ce61.png</td>\n",
       "    </tr>\n",
       "    <tr>\n",
       "      <th>4</th>\n",
       "      <td>CLASS ACTION AGAINST ROBINHOOD. Allowing peopl...</td>\n",
       "      <td>https://www.reddit.com/r/wallstreetbets/commen...</td>\n",
       "    </tr>\n",
       "    <tr>\n",
       "      <th>5</th>\n",
       "      <td>It’s treason then</td>\n",
       "      <td>https://i.redd.it/d3t66lv1yce61.jpg</td>\n",
       "    </tr>\n",
       "    <tr>\n",
       "      <th>6</th>\n",
       "      <td>Used some of my GME tendies to buy Nintendo Sw...</td>\n",
       "      <td>https://www.nbcdfw.com/news/local/north-texas-...</td>\n",
       "    </tr>\n",
       "    <tr>\n",
       "      <th>7</th>\n",
       "      <td>GME YOLO update — Jan 27 2021 ----------------...</td>\n",
       "      <td>https://i.redd.it/a309gkm5yxd61.png</td>\n",
       "    </tr>\n",
       "    <tr>\n",
       "      <th>8</th>\n",
       "      <td>IT'S POWER TO THE TRADERS NOW</td>\n",
       "      <td>https://v.redd.it/lu8aekujd6e61</td>\n",
       "    </tr>\n",
       "    <tr>\n",
       "      <th>9</th>\n",
       "      <td>Can we all take a moment and appreciate the Mo...</td>\n",
       "      <td>https://www.reddit.com/r/wallstreetbets/commen...</td>\n",
       "    </tr>\n",
       "  </tbody>\n",
       "</table>\n",
       "</div>"
      ],
      "text/plain": [
       "                                               title  \\\n",
       "0                             Times Square right now   \n",
       "1             UPVOTE so everyone sees we got SUPPORT   \n",
       "2                      GME YOLO update — Jan 28 2021   \n",
       "3               GME YOLO month-end update — Jan 2021   \n",
       "4  CLASS ACTION AGAINST ROBINHOOD. Allowing peopl...   \n",
       "5                                  It’s treason then   \n",
       "6  Used some of my GME tendies to buy Nintendo Sw...   \n",
       "7  GME YOLO update — Jan 27 2021 ----------------...   \n",
       "8                      IT'S POWER TO THE TRADERS NOW   \n",
       "9  Can we all take a moment and appreciate the Mo...   \n",
       "\n",
       "                                                 url  \n",
       "0                    https://v.redd.it/x64z70f7eie61  \n",
       "1                https://i.redd.it/sgoqy8nyt2e61.png  \n",
       "2                https://i.redd.it/opzucppb15e61.png  \n",
       "3                https://i.redd.it/r557em3t5ce61.png  \n",
       "4  https://www.reddit.com/r/wallstreetbets/commen...  \n",
       "5                https://i.redd.it/d3t66lv1yce61.jpg  \n",
       "6  https://www.nbcdfw.com/news/local/north-texas-...  \n",
       "7                https://i.redd.it/a309gkm5yxd61.png  \n",
       "8                    https://v.redd.it/lu8aekujd6e61  \n",
       "9  https://www.reddit.com/r/wallstreetbets/commen...  "
      ]
     },
     "execution_count": 7,
     "metadata": {},
     "output_type": "execute_result"
    }
   ],
   "source": [
    "rt.get_top_posts(\"wallstreetbets\")"
   ]
  },
  {
   "cell_type": "code",
   "execution_count": null,
   "metadata": {},
   "outputs": [],
   "source": []
  }
 ],
 "metadata": {
  "kernelspec": {
   "display_name": "Python 3",
   "language": "python",
   "name": "python3"
  },
  "language_info": {
   "codemirror_mode": {
    "name": "ipython",
    "version": 3
   },
   "file_extension": ".py",
   "mimetype": "text/x-python",
   "name": "python",
   "nbconvert_exporter": "python",
   "pygments_lexer": "ipython3",
   "version": "3.7.9"
  }
 },
 "nbformat": 4,
 "nbformat_minor": 4
}
